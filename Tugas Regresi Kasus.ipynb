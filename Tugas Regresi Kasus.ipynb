{
 "cells": [
  {
   "cell_type": "code",
   "execution_count": 91,
   "metadata": {},
   "outputs": [],
   "source": [
    "# Oleh:   Ahmad Rizal Samsi\n",
    "# Kasus:  Model Regresi Antara Waktu Fermentasi Terhadap Ketebalan Nata de Soya\n",
    "# Sumber: Jurnal oleh Uswatun Khasanah (Program Studi Pendidikan Matematika, FKIP UAD, Yogyakarta)\n",
    "\n",
    "import numpy as np\n",
    "import matplotlib.pyplot as plt\n",
    "import pandas as pd"
   ]
  },
  {
   "cell_type": "code",
   "execution_count": 92,
   "metadata": {},
   "outputs": [
    {
     "name": "stdout",
     "output_type": "stream",
     "text": [
      "    Hari  Ketebalan\n",
      "0      1        0.0\n",
      "1      2        0.0\n",
      "2      3        0.0\n",
      "3      4        0.2\n",
      "4      5        0.3\n",
      "5      6        0.5\n",
      "6      7        0.7\n",
      "7      8        0.9\n",
      "8      9        1.0\n",
      "9     10        1.1\n",
      "10    11        1.2\n",
      "11    12        1.3\n",
      "12    13        1.4\n",
      "13    14        1.5\n"
     ]
    }
   ],
   "source": [
    "# Creating the dataset Hasil Pengamatan Ketebalan Nata de Soya\n",
    "data = {'Hari': [1,2,3,4,5,6,7,8,9,10,11,12,13,14],\n",
    "        'Ketebalan':[0,0,0,0.2,0.3,0.5,0.7,0.9,1,1.1,1.2,1.3,1.4,1.5]\n",
    "       }\n",
    "dataset = pd.DataFrame(data)\n",
    "X = dataset.iloc[:, 0:1].values # Waktu Fermentasi (hari)\n",
    "y = dataset.iloc[:, 1].values   # Ketebalan Nata de Soya (mm)\n",
    "print(dataset)"
   ]
  },
  {
   "cell_type": "code",
   "execution_count": 93,
   "metadata": {},
   "outputs": [],
   "source": [
    "# Splitting the dataset into the Training set and Test set\n",
    "# from sklearn.model_selection import train_test_split \n",
    "# print(train_test_split(X, y, test_size=0.2, random_state=0))\n",
    "# X_train, X_test, y_train, y_test = train_test_split(X, y, test_size=0.2, random_state=0)"
   ]
  },
  {
   "cell_type": "code",
   "execution_count": 94,
   "metadata": {},
   "outputs": [
    {
     "data": {
      "text/plain": [
       "array([-0.12571429,  0.00461538,  0.13494505,  0.26527473,  0.3956044 ,\n",
       "        0.52593407,  0.65626374,  0.78659341,  0.91692308,  1.04725275,\n",
       "        1.17758242,  1.30791209,  1.43824176,  1.56857143])"
      ]
     },
     "execution_count": 94,
     "metadata": {},
     "output_type": "execute_result"
    }
   ],
   "source": [
    "# Fitting Linear Regression to the dataset\n",
    "from sklearn.linear_model import LinearRegression\n",
    "lin_reg = LinearRegression()\n",
    "lin_reg.fit(X, y)\n",
    "lin_reg.predict(X)"
   ]
  },
  {
   "cell_type": "code",
   "execution_count": 95,
   "metadata": {},
   "outputs": [
    {
     "data": {
      "image/png": "[encoded data removed]",
      "text/plain": [
       "<Figure size 432x288 with 1 Axes>"
      ]
     },
     "metadata": {
      "needs_background": "light"
     },
     "output_type": "display_data"
    }
   ],
   "source": [
    "# Visualizing the Linear Regression results\n",
    "def viz_linear():\n",
    "    plt.scatter(X, y, color='red')\n",
    "    plt.plot(X, lin_reg.predict(X), color='blue')\n",
    "    plt.title('Hasil Pengamatan Ketebalan Nata de Soya')\n",
    "    plt.xlabel('Hari')\n",
    "    plt.ylabel('Ketebalan (mm)')\n",
    "    plt.show()\n",
    "    return\n",
    "viz_linear()"
   ]
  },
  {
   "cell_type": "code",
   "execution_count": 96,
   "metadata": {},
   "outputs": [
    {
     "data": {
      "text/plain": [
       "array([ 0.01134454, -0.03054299,  0.03164189,  0.16239937,  0.3319269 ,\n",
       "        0.51611917,  0.69656814,  0.86056297,  1.00109009,  1.11683317,\n",
       "        1.21217312,  1.29718811,  1.38765352,  1.50504202])"
      ]
     },
     "execution_count": 96,
     "metadata": {},
     "output_type": "execute_result"
    }
   ],
   "source": [
    "# Fitting Polynomial Regression to the dataset\n",
    "from sklearn.preprocessing import PolynomialFeatures\n",
    "poly_reg = PolynomialFeatures(degree=4)\n",
    "X_poly = poly_reg.fit_transform(X)\n",
    "pol_reg = LinearRegression()\n",
    "pol_reg.fit(X_poly, y)\n",
    "poly_reg.fit_transform(X)\n",
    "pol_reg.predict(poly_reg.fit_transform(X))"
   ]
  },
  {
   "cell_type": "code",
   "execution_count": 97,
   "metadata": {},
   "outputs": [
    {
     "data": {
      "image/png": "[encoded data removed]",
      "text/plain": [
       "<Figure size 432x288 with 1 Axes>"
      ]
     },
     "metadata": {
      "needs_background": "light"
     },
     "output_type": "display_data"
    }
   ],
   "source": [
    "# Visualizing the Polymonial Regression results\n",
    "def viz_polymonial():\n",
    "    plt.scatter(X, y, color='red')\n",
    "    plt.plot(X, pol_reg.predict(poly_reg.fit_transform(X)), color='blue')\n",
    "    plt.title('Hasil Pengamatan Ketebalan Nata de Soya')\n",
    "    plt.xlabel('Hari')\n",
    "    plt.ylabel('Ketebalan (mm)')\n",
    "    plt.show()\n",
    "    return\n",
    "viz_polymonial()"
   ]
  },
  {
   "cell_type": "code",
   "execution_count": 98,
   "metadata": {},
   "outputs": [
    {
     "name": "stdout",
     "output_type": "stream",
     "text": [
      "[1.6989011]\n",
      "[1.67652348]\n"
     ]
    }
   ],
   "source": [
    "#Prediksi Ketebalan Nata de Soya pada hari ke 15\n",
    "\n",
    "# Predicting a new result with Linear Regression\n",
    "yhatlin = lin_reg.predict([[15]])\n",
    "print(yhatlin)\n",
    "\n",
    "# Predicting a new result with Polymonial Regression\n",
    "yhatpol = pol_reg.predict(poly_reg.fit_transform([[15]]))\n",
    "print(yhatpol)"
   ]
  }
 ],
 "metadata": {
  "kernelspec": {
   "display_name": "Python 3",
   "language": "python",
   "name": "python3"
  },
  "language_info": {
   "codemirror_mode": {
    "name": "ipython",
    "version": 3
   },
   "file_extension": ".py",
   "mimetype": "text/x-python",
   "name": "python",
   "nbconvert_exporter": "python",
   "pygments_lexer": "ipython3",
   "version": "3.7.3"
  }
 },
 "nbformat": 4,
 "nbformat_minor": 2
}
