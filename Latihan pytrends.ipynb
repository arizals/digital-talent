{
 "cells": [
  {
   "cell_type": "code",
   "execution_count": 1,
   "metadata": {},
   "outputs": [
    {
     "name": "stdout",
     "output_type": "stream",
     "text": [
      "Collecting pytrends\n",
      "  Downloading https://files.pythonhosted.org/packages/c7/ca/bf9ed973416290270c9aea8f8b3cf7e75a2280918838a4bea4067019ef11/pytrends-4.6.0-py3-none-any.whl\n",
      "Requirement already satisfied: requests in c:\\users\\ichal\\anaconda3\\lib\\site-packages (from pytrends) (2.21.0)\n",
      "Requirement already satisfied: lxml in c:\\users\\ichal\\anaconda3\\lib\\site-packages (from pytrends) (4.3.2)\n",
      "Requirement already satisfied: pandas in c:\\users\\ichal\\anaconda3\\lib\\site-packages (from pytrends) (0.24.2)\n",
      "Requirement already satisfied: chardet<3.1.0,>=3.0.2 in c:\\users\\ichal\\anaconda3\\lib\\site-packages (from requests->pytrends) (3.0.4)\n",
      "Requirement already satisfied: urllib3<1.25,>=1.21.1 in c:\\users\\ichal\\anaconda3\\lib\\site-packages (from requests->pytrends) (1.24.1)\n",
      "Requirement already satisfied: certifi>=2017.4.17 in c:\\users\\ichal\\anaconda3\\lib\\site-packages (from requests->pytrends) (2019.6.16)\n",
      "Requirement already satisfied: idna<2.9,>=2.5 in c:\\users\\ichal\\anaconda3\\lib\\site-packages (from requests->pytrends) (2.8)\n",
      "Requirement already satisfied: numpy>=1.12.0 in c:\\users\\ichal\\anaconda3\\lib\\site-packages (from pandas->pytrends) (1.16.2)\n",
      "Requirement already satisfied: python-dateutil>=2.5.0 in c:\\users\\ichal\\anaconda3\\lib\\site-packages (from pandas->pytrends) (2.8.0)\n",
      "Requirement already satisfied: pytz>=2011k in c:\\users\\ichal\\anaconda3\\lib\\site-packages (from pandas->pytrends) (2018.9)\n",
      "Requirement already satisfied: six>=1.5 in c:\\users\\ichal\\anaconda3\\lib\\site-packages (from python-dateutil>=2.5.0->pandas->pytrends) (1.12.0)\n",
      "Installing collected packages: pytrends\n",
      "Successfully installed pytrends-4.6.0\n",
      "Note: you may need to restart the kernel to use updated packages.\n"
     ]
    }
   ],
   "source": [
    "pip install pytrends"
   ]
  },
  {
   "cell_type": "code",
   "execution_count": 4,
   "metadata": {},
   "outputs": [],
   "source": [
    "import pandas as pd\n",
    "from pytrends.request import TrendReq"
   ]
  },
  {
   "cell_type": "code",
   "execution_count": 12,
   "metadata": {},
   "outputs": [
    {
     "name": "stdout",
     "output_type": "stream",
     "text": [
      "            promo  discount  isPartial\n",
      "date                                  \n",
      "2014-08-17     56        61      False\n",
      "2014-08-24     57        61      False\n",
      "2014-08-31     55        57      False\n",
      "2014-09-07     54        56      False\n",
      "2014-09-14     55        57      False\n",
      "2014-09-21     55        58      False\n",
      "2014-09-28     58        58      False\n",
      "2014-10-05     59        59      False\n",
      "2014-10-12     59        58      False\n",
      "2014-10-19     58        57      False\n",
      "2014-10-26     57        56      False\n",
      "2014-11-02     61        59      False\n",
      "2014-11-09     62        63      False\n",
      "2014-11-16     65        65      False\n",
      "2014-11-23     77        68      False\n",
      "2014-11-30     87        70      False\n",
      "2014-12-07     82        66      False\n",
      "2014-12-14     77        63      False\n",
      "2014-12-21     66        57      False\n",
      "2014-12-28     67        64      False\n",
      "2015-01-04     61        59      False\n",
      "2015-01-11     58        58      False\n",
      "2015-01-18     58        58      False\n",
      "2015-01-25     56        55      False\n",
      "2015-02-01     60        57      False\n",
      "2015-02-08     59        58      False\n",
      "2015-02-15     58        56      False\n",
      "2015-02-22     57        56      False\n",
      "2015-03-01     58        58      False\n",
      "2015-03-08     58        57      False\n",
      "...           ...       ...        ...\n",
      "2019-01-13     67        58      False\n",
      "2019-01-20     68        56      False\n",
      "2019-01-27     71        56      False\n",
      "2019-02-03     71        59      False\n",
      "2019-02-10     70        57      False\n",
      "2019-02-17     69        58      False\n",
      "2019-02-24     70        57      False\n",
      "2019-03-03     71        60      False\n",
      "2019-03-10     68        58      False\n",
      "2019-03-17     67        57      False\n",
      "2019-03-24     68        60      False\n",
      "2019-03-31     70        58      False\n",
      "2019-04-07     66        58      False\n",
      "2019-04-14     69        59      False\n",
      "2019-04-21     68        58      False\n",
      "2019-04-28     73        61      False\n",
      "2019-05-05     71        58      False\n",
      "2019-05-12     70        57      False\n",
      "2019-05-19     73        58      False\n",
      "2019-05-26     71        62      False\n",
      "2019-06-02     70        63      False\n",
      "2019-06-09     71        63      False\n",
      "2019-06-16     68        63      False\n",
      "2019-06-23     70        64      False\n",
      "2019-06-30     76        64      False\n",
      "2019-07-07     74        65      False\n",
      "2019-07-14     71        65      False\n",
      "2019-07-21     70        65      False\n",
      "2019-07-28     74        66      False\n",
      "2019-08-04     73        68      False\n",
      "\n",
      "[260 rows x 3 columns]\n"
     ]
    }
   ],
   "source": [
    "pytrend = TrendReq()\n",
    "pytrend.build_payload(kw_list=['promo', 'discount'])\n",
    "interest_over_time_df = pytrend.interest_over_time()\n",
    "print(interest_over_time_df)"
   ]
  }
 ],
 "metadata": {
  "kernelspec": {
   "display_name": "Python 3",
   "language": "python",
   "name": "python3"
  },
  "language_info": {
   "codemirror_mode": {
    "name": "ipython",
    "version": 3
   },
   "file_extension": ".py",
   "mimetype": "text/x-python",
   "name": "python",
   "nbconvert_exporter": "python",
   "pygments_lexer": "ipython3",
   "version": "3.7.3"
  }
 },
 "nbformat": 4,
 "nbformat_minor": 2
}
