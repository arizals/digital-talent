{
 "cells": [
  {
   "cell_type": "code",
   "execution_count": 42,
   "metadata": {},
   "outputs": [
    {
     "data": {
      "text/plain": [
       "array([[ 1.00507879,  4.59464203],\n",
       "       [ 1.12847762,  4.32812233],\n",
       "       [ 2.11788106,  0.72684451],\n",
       "       [ 0.95562631,  4.38590703],\n",
       "       [-1.35401677,  2.76944926],\n",
       "       [-1.07295309,  2.62700913],\n",
       "       [-2.03750198,  3.04860598],\n",
       "       [ 2.35408334,  0.85663201],\n",
       "       [ 2.14404017,  0.96439853],\n",
       "       [ 1.16628776,  4.27351589]])"
      ]
     },
     "execution_count": 42,
     "metadata": {},
     "output_type": "execute_result"
    }
   ],
   "source": [
    "# Imports\n",
    "from sklearn.datasets.samples_generator import make_blobs\n",
    "\n",
    "X, _ = make_blobs(n_samples=10, centers=3, n_features=2,\n",
    "                 cluster_std=0.2,  random_state=0)\n",
    "X"
   ]
  },
  {
   "cell_type": "code",
   "execution_count": 3,
   "metadata": {},
   "outputs": [
    {
     "data": {
      "text/html": [
       "<div>\n",
       "<style scoped>\n",
       "    .dataframe tbody tr th:only-of-type {\n",
       "        vertical-align: middle;\n",
       "    }\n",
       "\n",
       "    .dataframe tbody tr th {\n",
       "        vertical-align: top;\n",
       "    }\n",
       "\n",
       "    .dataframe thead th {\n",
       "        text-align: right;\n",
       "    }\n",
       "</style>\n",
       "<table border=\"1\" class=\"dataframe\">\n",
       "  <thead>\n",
       "    <tr style=\"text-align: right;\">\n",
       "      <th></th>\n",
       "      <th>Object</th>\n",
       "      <th>X_value</th>\n",
       "      <th>Y_value</th>\n",
       "    </tr>\n",
       "  </thead>\n",
       "  <tbody>\n",
       "    <tr>\n",
       "      <th>0</th>\n",
       "      <td>Object 1</td>\n",
       "      <td>1.005079</td>\n",
       "      <td>4.594642</td>\n",
       "    </tr>\n",
       "    <tr>\n",
       "      <th>1</th>\n",
       "      <td>Object 2</td>\n",
       "      <td>1.128478</td>\n",
       "      <td>4.328122</td>\n",
       "    </tr>\n",
       "    <tr>\n",
       "      <th>2</th>\n",
       "      <td>Object 3</td>\n",
       "      <td>2.117881</td>\n",
       "      <td>0.726845</td>\n",
       "    </tr>\n",
       "    <tr>\n",
       "      <th>3</th>\n",
       "      <td>Object 4</td>\n",
       "      <td>0.955626</td>\n",
       "      <td>4.385907</td>\n",
       "    </tr>\n",
       "    <tr>\n",
       "      <th>4</th>\n",
       "      <td>Object 5</td>\n",
       "      <td>-1.354017</td>\n",
       "      <td>2.769449</td>\n",
       "    </tr>\n",
       "    <tr>\n",
       "      <th>5</th>\n",
       "      <td>Object 6</td>\n",
       "      <td>-1.072953</td>\n",
       "      <td>2.627009</td>\n",
       "    </tr>\n",
       "    <tr>\n",
       "      <th>6</th>\n",
       "      <td>Object 7</td>\n",
       "      <td>-2.037502</td>\n",
       "      <td>3.048606</td>\n",
       "    </tr>\n",
       "    <tr>\n",
       "      <th>7</th>\n",
       "      <td>Object 8</td>\n",
       "      <td>2.354083</td>\n",
       "      <td>0.856632</td>\n",
       "    </tr>\n",
       "    <tr>\n",
       "      <th>8</th>\n",
       "      <td>Object 9</td>\n",
       "      <td>2.144040</td>\n",
       "      <td>0.964399</td>\n",
       "    </tr>\n",
       "    <tr>\n",
       "      <th>9</th>\n",
       "      <td>Object 10</td>\n",
       "      <td>1.166288</td>\n",
       "      <td>4.273516</td>\n",
       "    </tr>\n",
       "  </tbody>\n",
       "</table>\n",
       "</div>"
      ],
      "text/plain": [
       "      Object   X_value   Y_value\n",
       "0   Object 1  1.005079  4.594642\n",
       "1   Object 2  1.128478  4.328122\n",
       "2   Object 3  2.117881  0.726845\n",
       "3   Object 4  0.955626  4.385907\n",
       "4   Object 5 -1.354017  2.769449\n",
       "5   Object 6 -1.072953  2.627009\n",
       "6   Object 7 -2.037502  3.048606\n",
       "7   Object 8  2.354083  0.856632\n",
       "8   Object 9  2.144040  0.964399\n",
       "9  Object 10  1.166288  4.273516"
      ]
     },
     "execution_count": 3,
     "metadata": {},
     "output_type": "execute_result"
    }
   ],
   "source": [
    "# Convert the data points into a pandas DataFrame\n",
    "import pandas as pd\n",
    "\n",
    "# Generate indicators for the data points\n",
    "obj_names = []\n",
    "for i in range(1, 11):\n",
    "    obj = \"Object \" + str(i)\n",
    "    obj_names.append(obj)\n",
    "\n",
    "# Create a pandas DataFrame with the names and (x, y) coordinates\n",
    "data = pd.DataFrame({\n",
    "    'Object': obj_names,\n",
    "    'X_value': X[:, 0],\n",
    "    'Y_value': X[:, -1]\n",
    "})\n",
    "\n",
    "# Preview the data\n",
    "data"
   ]
  },
  {
   "cell_type": "code",
   "execution_count": 4,
   "metadata": {},
   "outputs": [
    {
     "data": {
      "image/png": "[encoded data removed]",
      "text/plain": [
       "<Figure size 432x288 with 1 Axes>"
      ]
     },
     "metadata": {
      "needs_background": "light"
     },
     "output_type": "display_data"
    }
   ],
   "source": [
    "# Scatter plot of the data points\n",
    "import matplotlib.pyplot as plt\n",
    "%matplotlib inline\n",
    "\n",
    "plt.scatter(X[:, 0], X[:, -1])\n",
    "plt.xlabel('X Coordinates')\n",
    "plt.ylabel('Y Coordinates')\n",
    "plt.show()"
   ]
  },
  {
   "cell_type": "code",
   "execution_count": 45,
   "metadata": {},
   "outputs": [],
   "source": [
    "# Initialize the centroids\n",
    "c1 = (-1, 4)\n",
    "c2 = (-0.2, 1.5)\n",
    "c3 = (2, 2.5)"
   ]
  },
  {
   "cell_type": "code",
   "execution_count": 9,
   "metadata": {},
   "outputs": [],
   "source": [
    "# A helper function to calculate the Euclidean diatance between the data points and the centroids\n",
    "import numpy as np\n",
    "\n",
    "def calculate_distance(centroid, X, Y):\n",
    "    distances = []\n",
    "    \n",
    "    # Unpack the x and y coordinates of the centroid\n",
    "    c_x, c_y = centroid\n",
    "    \n",
    "    # Iterate over the data points and calculate the distance using the given formula\n",
    "    for x, y in list(zip(X, Y)):\n",
    "        root_diff_x = (x - c_x) ** 2\n",
    "        root_diff_y = (y - c_y) ** 2\n",
    "        distance = np.sqrt(root_diff_x + root_diff_y)\n",
    "        distances.append(distance)\n",
    "    \n",
    "    return distances"
   ]
  },
  {
   "cell_type": "code",
   "execution_count": 12,
   "metadata": {},
   "outputs": [
    {
     "data": {
      "text/html": [
       "<div>\n",
       "<style scoped>\n",
       "    .dataframe tbody tr th:only-of-type {\n",
       "        vertical-align: middle;\n",
       "    }\n",
       "\n",
       "    .dataframe tbody tr th {\n",
       "        vertical-align: top;\n",
       "    }\n",
       "\n",
       "    .dataframe thead th {\n",
       "        text-align: right;\n",
       "    }\n",
       "</style>\n",
       "<table border=\"1\" class=\"dataframe\">\n",
       "  <thead>\n",
       "    <tr style=\"text-align: right;\">\n",
       "      <th></th>\n",
       "      <th>Object</th>\n",
       "      <th>X_value</th>\n",
       "      <th>Y_value</th>\n",
       "      <th>C1_Distance</th>\n",
       "      <th>C2_Distance</th>\n",
       "      <th>C3_Distance</th>\n",
       "    </tr>\n",
       "  </thead>\n",
       "  <tbody>\n",
       "    <tr>\n",
       "      <th>0</th>\n",
       "      <td>Object 1</td>\n",
       "      <td>1.005079</td>\n",
       "      <td>4.594642</td>\n",
       "      <td>2.091397</td>\n",
       "      <td>3.320997</td>\n",
       "      <td>2.318921</td>\n",
       "    </tr>\n",
       "    <tr>\n",
       "      <th>1</th>\n",
       "      <td>Object 2</td>\n",
       "      <td>1.128478</td>\n",
       "      <td>4.328122</td>\n",
       "      <td>2.153620</td>\n",
       "      <td>3.124601</td>\n",
       "      <td>2.025236</td>\n",
       "    </tr>\n",
       "    <tr>\n",
       "      <th>2</th>\n",
       "      <td>Object 3</td>\n",
       "      <td>2.117881</td>\n",
       "      <td>0.726845</td>\n",
       "      <td>4.520479</td>\n",
       "      <td>2.443428</td>\n",
       "      <td>1.777070</td>\n",
       "    </tr>\n",
       "    <tr>\n",
       "      <th>3</th>\n",
       "      <td>Object 4</td>\n",
       "      <td>0.955626</td>\n",
       "      <td>4.385907</td>\n",
       "      <td>1.993339</td>\n",
       "      <td>3.108686</td>\n",
       "      <td>2.155774</td>\n",
       "    </tr>\n",
       "    <tr>\n",
       "      <th>4</th>\n",
       "      <td>Object 5</td>\n",
       "      <td>-1.354017</td>\n",
       "      <td>2.769449</td>\n",
       "      <td>1.280462</td>\n",
       "      <td>1.715592</td>\n",
       "      <td>3.364823</td>\n",
       "    </tr>\n",
       "    <tr>\n",
       "      <th>5</th>\n",
       "      <td>Object 6</td>\n",
       "      <td>-1.072953</td>\n",
       "      <td>2.627009</td>\n",
       "      <td>1.374928</td>\n",
       "      <td>1.425551</td>\n",
       "      <td>3.075577</td>\n",
       "    </tr>\n",
       "    <tr>\n",
       "      <th>6</th>\n",
       "      <td>Object 7</td>\n",
       "      <td>-2.037502</td>\n",
       "      <td>3.048606</td>\n",
       "      <td>1.407679</td>\n",
       "      <td>2.403038</td>\n",
       "      <td>4.074603</td>\n",
       "    </tr>\n",
       "    <tr>\n",
       "      <th>7</th>\n",
       "      <td>Object 8</td>\n",
       "      <td>2.354083</td>\n",
       "      <td>0.856632</td>\n",
       "      <td>4.596807</td>\n",
       "      <td>2.633869</td>\n",
       "      <td>1.681081</td>\n",
       "    </tr>\n",
       "    <tr>\n",
       "      <th>8</th>\n",
       "      <td>Object 9</td>\n",
       "      <td>2.144040</td>\n",
       "      <td>0.964399</td>\n",
       "      <td>4.370339</td>\n",
       "      <td>2.404453</td>\n",
       "      <td>1.542342</td>\n",
       "    </tr>\n",
       "    <tr>\n",
       "      <th>9</th>\n",
       "      <td>Object 10</td>\n",
       "      <td>1.166288</td>\n",
       "      <td>4.273516</td>\n",
       "      <td>2.183487</td>\n",
       "      <td>3.091785</td>\n",
       "      <td>1.959703</td>\n",
       "    </tr>\n",
       "  </tbody>\n",
       "</table>\n",
       "</div>"
      ],
      "text/plain": [
       "      Object   X_value   Y_value  C1_Distance  C2_Distance  C3_Distance\n",
       "0   Object 1  1.005079  4.594642     2.091397     3.320997     2.318921\n",
       "1   Object 2  1.128478  4.328122     2.153620     3.124601     2.025236\n",
       "2   Object 3  2.117881  0.726845     4.520479     2.443428     1.777070\n",
       "3   Object 4  0.955626  4.385907     1.993339     3.108686     2.155774\n",
       "4   Object 5 -1.354017  2.769449     1.280462     1.715592     3.364823\n",
       "5   Object 6 -1.072953  2.627009     1.374928     1.425551     3.075577\n",
       "6   Object 7 -2.037502  3.048606     1.407679     2.403038     4.074603\n",
       "7   Object 8  2.354083  0.856632     4.596807     2.633869     1.681081\n",
       "8   Object 9  2.144040  0.964399     4.370339     2.404453     1.542342\n",
       "9  Object 10  1.166288  4.273516     2.183487     3.091785     1.959703"
      ]
     },
     "execution_count": 12,
     "metadata": {},
     "output_type": "execute_result"
    }
   ],
   "source": [
    "# Calculate the distance and assign them to the DataFrame accordingly\n",
    "data['C1_Distance'] = calculate_distance(c1, data.X_value, data.Y_value)\n",
    "data['C2_Distance'] = calculate_distance(c2, data.X_value, data.Y_value)\n",
    "data['C3_Distance'] = calculate_distance(c3, data.X_value, data.Y_value)\n",
    "\n",
    "# Preview the data\n",
    "data"
   ]
  },
  {
   "cell_type": "code",
   "execution_count": 14,
   "metadata": {},
   "outputs": [
    {
     "data": {
      "text/html": [
       "<div>\n",
       "<style scoped>\n",
       "    .dataframe tbody tr th:only-of-type {\n",
       "        vertical-align: middle;\n",
       "    }\n",
       "\n",
       "    .dataframe tbody tr th {\n",
       "        vertical-align: top;\n",
       "    }\n",
       "\n",
       "    .dataframe thead th {\n",
       "        text-align: right;\n",
       "    }\n",
       "</style>\n",
       "<table border=\"1\" class=\"dataframe\">\n",
       "  <thead>\n",
       "    <tr style=\"text-align: right;\">\n",
       "      <th></th>\n",
       "      <th>Object</th>\n",
       "      <th>X_value</th>\n",
       "      <th>Y_value</th>\n",
       "      <th>C1_Distance</th>\n",
       "      <th>C2_Distance</th>\n",
       "      <th>C3_Distance</th>\n",
       "      <th>Cluster</th>\n",
       "    </tr>\n",
       "  </thead>\n",
       "  <tbody>\n",
       "    <tr>\n",
       "      <th>0</th>\n",
       "      <td>Object 1</td>\n",
       "      <td>1.005079</td>\n",
       "      <td>4.594642</td>\n",
       "      <td>2.091397</td>\n",
       "      <td>3.320997</td>\n",
       "      <td>2.318921</td>\n",
       "      <td>C1</td>\n",
       "    </tr>\n",
       "    <tr>\n",
       "      <th>1</th>\n",
       "      <td>Object 2</td>\n",
       "      <td>1.128478</td>\n",
       "      <td>4.328122</td>\n",
       "      <td>2.153620</td>\n",
       "      <td>3.124601</td>\n",
       "      <td>2.025236</td>\n",
       "      <td>C3</td>\n",
       "    </tr>\n",
       "    <tr>\n",
       "      <th>2</th>\n",
       "      <td>Object 3</td>\n",
       "      <td>2.117881</td>\n",
       "      <td>0.726845</td>\n",
       "      <td>4.520479</td>\n",
       "      <td>2.443428</td>\n",
       "      <td>1.777070</td>\n",
       "      <td>C3</td>\n",
       "    </tr>\n",
       "    <tr>\n",
       "      <th>3</th>\n",
       "      <td>Object 4</td>\n",
       "      <td>0.955626</td>\n",
       "      <td>4.385907</td>\n",
       "      <td>1.993339</td>\n",
       "      <td>3.108686</td>\n",
       "      <td>2.155774</td>\n",
       "      <td>C1</td>\n",
       "    </tr>\n",
       "    <tr>\n",
       "      <th>4</th>\n",
       "      <td>Object 5</td>\n",
       "      <td>-1.354017</td>\n",
       "      <td>2.769449</td>\n",
       "      <td>1.280462</td>\n",
       "      <td>1.715592</td>\n",
       "      <td>3.364823</td>\n",
       "      <td>C1</td>\n",
       "    </tr>\n",
       "    <tr>\n",
       "      <th>5</th>\n",
       "      <td>Object 6</td>\n",
       "      <td>-1.072953</td>\n",
       "      <td>2.627009</td>\n",
       "      <td>1.374928</td>\n",
       "      <td>1.425551</td>\n",
       "      <td>3.075577</td>\n",
       "      <td>C1</td>\n",
       "    </tr>\n",
       "    <tr>\n",
       "      <th>6</th>\n",
       "      <td>Object 7</td>\n",
       "      <td>-2.037502</td>\n",
       "      <td>3.048606</td>\n",
       "      <td>1.407679</td>\n",
       "      <td>2.403038</td>\n",
       "      <td>4.074603</td>\n",
       "      <td>C1</td>\n",
       "    </tr>\n",
       "    <tr>\n",
       "      <th>7</th>\n",
       "      <td>Object 8</td>\n",
       "      <td>2.354083</td>\n",
       "      <td>0.856632</td>\n",
       "      <td>4.596807</td>\n",
       "      <td>2.633869</td>\n",
       "      <td>1.681081</td>\n",
       "      <td>C3</td>\n",
       "    </tr>\n",
       "    <tr>\n",
       "      <th>8</th>\n",
       "      <td>Object 9</td>\n",
       "      <td>2.144040</td>\n",
       "      <td>0.964399</td>\n",
       "      <td>4.370339</td>\n",
       "      <td>2.404453</td>\n",
       "      <td>1.542342</td>\n",
       "      <td>C3</td>\n",
       "    </tr>\n",
       "    <tr>\n",
       "      <th>9</th>\n",
       "      <td>Object 10</td>\n",
       "      <td>1.166288</td>\n",
       "      <td>4.273516</td>\n",
       "      <td>2.183487</td>\n",
       "      <td>3.091785</td>\n",
       "      <td>1.959703</td>\n",
       "      <td>C3</td>\n",
       "    </tr>\n",
       "  </tbody>\n",
       "</table>\n",
       "</div>"
      ],
      "text/plain": [
       "      Object   X_value   Y_value  C1_Distance  C2_Distance  C3_Distance  \\\n",
       "0   Object 1  1.005079  4.594642     2.091397     3.320997     2.318921   \n",
       "1   Object 2  1.128478  4.328122     2.153620     3.124601     2.025236   \n",
       "2   Object 3  2.117881  0.726845     4.520479     2.443428     1.777070   \n",
       "3   Object 4  0.955626  4.385907     1.993339     3.108686     2.155774   \n",
       "4   Object 5 -1.354017  2.769449     1.280462     1.715592     3.364823   \n",
       "5   Object 6 -1.072953  2.627009     1.374928     1.425551     3.075577   \n",
       "6   Object 7 -2.037502  3.048606     1.407679     2.403038     4.074603   \n",
       "7   Object 8  2.354083  0.856632     4.596807     2.633869     1.681081   \n",
       "8   Object 9  2.144040  0.964399     4.370339     2.404453     1.542342   \n",
       "9  Object 10  1.166288  4.273516     2.183487     3.091785     1.959703   \n",
       "\n",
       "  Cluster  \n",
       "0      C1  \n",
       "1      C3  \n",
       "2      C3  \n",
       "3      C1  \n",
       "4      C1  \n",
       "5      C1  \n",
       "6      C1  \n",
       "7      C3  \n",
       "8      C3  \n",
       "9      C3  "
      ]
     },
     "execution_count": 14,
     "metadata": {},
     "output_type": "execute_result"
    }
   ],
   "source": [
    "# Get the minimum distance centroids\n",
    "data['Cluster'] = data[['C1_Distance', 'C2_Distance', 'C3_Distance']].apply(np.argmin, axis =1)\n",
    "\n",
    "# Map the centroids accordingly and rename them\n",
    "data['Cluster'] = data['Cluster'].map({'C1_Distance': 'C1', 'C2_Distance': 'C2', 'C3_Distance': 'C3'})\n",
    "\n",
    "# Get a preview of the data\n",
    "data"
   ]
  },
  {
   "cell_type": "code",
   "execution_count": 16,
   "metadata": {},
   "outputs": [
    {
     "data": {
      "text/plain": [
       "[('C1', 5), ('C3', 5)]"
      ]
     },
     "execution_count": 16,
     "metadata": {},
     "output_type": "execute_result"
    }
   ],
   "source": [
    "# Get the number of data points in the clusters\n",
    "from collections import Counter\n",
    "\n",
    "label_counts = Counter(data['Cluster'].values)\n",
    "label_counts.most_common()"
   ]
  },
  {
   "cell_type": "code",
   "execution_count": 18,
   "metadata": {},
   "outputs": [
    {
     "name": "stdout",
     "output_type": "stream",
     "text": [
      "Centroid 1 (-0.500753347459331, 3.4851226841526897)\n",
      "Centroid 2 (1.7821539902873855, 2.2299026522421928)\n"
     ]
    }
   ],
   "source": [
    "# Calculate the coordinates of the new centroid from cluster 1\n",
    "x_new_centroid1 = data[data['Cluster']=='C1']['X_value'].mean()\n",
    "y_new_centroid1 = data[data['Cluster']=='C1']['Y_value'].mean()\n",
    "\n",
    "# Calculate the coordinates of the new centroid from cluster 2\n",
    "x_new_centroid2 = data[data['Cluster']=='C3']['X_value'].mean()\n",
    "y_new_centroid2 = data[data['Cluster']=='C3']['Y_value'].mean()\n",
    "\n",
    "# Print the coordinates of the new centroids\n",
    "print('Centroid 1 ({}, {})'.format(x_new_centroid1, y_new_centroid1))\n",
    "print('Centroid 2 ({}, {})'.format(x_new_centroid2, y_new_centroid2))"
   ]
  },
  {
   "cell_type": "code",
   "execution_count": 21,
   "metadata": {},
   "outputs": [],
   "source": [
    "# Using scikit-learn to perform K-Means clustering\n",
    "from sklearn.cluster import KMeans\n",
    "\n",
    "# Specify the number of clusters (3) and fit the data X\n",
    "kmeans = KMeans(n_clusters=3, random_state=0).fit(X)"
   ]
  },
  {
   "cell_type": "code",
   "execution_count": 23,
   "metadata": {},
   "outputs": [
    {
     "data": {
      "text/plain": [
       "array([[-1.48815728,  2.81502145],\n",
       "       [ 2.20533486,  0.84929168],\n",
       "       [ 1.06386762,  4.39554682]])"
      ]
     },
     "execution_count": 23,
     "metadata": {},
     "output_type": "execute_result"
    }
   ],
   "source": [
    "# Get the cluster centroids\n",
    "kmeans.cluster_centers_"
   ]
  },
  {
   "cell_type": "code",
   "execution_count": 24,
   "metadata": {},
   "outputs": [
    {
     "data": {
      "text/plain": [
       "array([2, 2, 1, 2, 0, 0, 0, 1, 1, 2])"
      ]
     },
     "execution_count": 24,
     "metadata": {},
     "output_type": "execute_result"
    }
   ],
   "source": [
    "# Get the cluster labels\n",
    "kmeans.labels_"
   ]
  },
  {
   "cell_type": "code",
   "execution_count": 26,
   "metadata": {},
   "outputs": [
    {
     "data": {
      "image/png": "[encoded data removed]",
      "text/plain": [
       "<Figure size 432x288 with 1 Axes>"
      ]
     },
     "metadata": {
      "needs_background": "light"
     },
     "output_type": "display_data"
    }
   ],
   "source": [
    "# Plotting the cluster centers and the data points on a 2D plane\n",
    "plt.scatter(X[:, 0], X[:, -1])\n",
    "plt.scatter(kmeans.cluster_centers_[:, 0], kmeans.cluster_centers_[:, 1], c='red', marker='x')\n",
    "plt.title('Data points and cluster centroids')\n",
    "plt.show()"
   ]
  },
  {
   "cell_type": "code",
   "execution_count": 31,
   "metadata": {},
   "outputs": [
    {
     "name": "stdout",
     "output_type": "stream",
     "text": [
      "0.8810668519873335\n"
     ]
    }
   ],
   "source": [
    "# Calculate silhouette_score\n",
    "from sklearn.metrics import silhouette_score\n",
    "\n",
    "print(silhouette_score(X, kmeans.labels_))"
   ]
  },
  {
   "cell_type": "code",
   "execution_count": 32,
   "metadata": {},
   "outputs": [
    {
     "name": "stdout",
     "output_type": "stream",
     "text": [
      "Collecting yellowbrick\n",
      "  Downloading https://files.pythonhosted.org/packages/d8/e8/125204ea84a7424a3237556e8dfaec9fee21f2e3d5b3695eb9ce355bf668/yellowbrick-0.9.1-py2.py3-none-any.whl (282kB)\n",
      "Requirement already satisfied: cycler>=0.10.0 in c:\\users\\ichal\\anaconda3\\lib\\site-packages (from yellowbrick) (0.10.0)\n",
      "Requirement already satisfied: numpy>=1.13.0 in c:\\users\\ichal\\anaconda3\\lib\\site-packages (from yellowbrick) (1.16.2)\n",
      "Requirement already satisfied: scipy>=1.0.0 in c:\\users\\ichal\\anaconda3\\lib\\site-packages (from yellowbrick) (1.2.1)\n",
      "Requirement already satisfied: scikit-learn>=0.20 in c:\\users\\ichal\\anaconda3\\lib\\site-packages (from yellowbrick) (0.20.3)\n",
      "Requirement already satisfied: matplotlib!=3.0.0,>=1.5.1 in c:\\users\\ichal\\anaconda3\\lib\\site-packages (from yellowbrick) (3.0.3)\n",
      "Requirement already satisfied: six in c:\\users\\ichal\\anaconda3\\lib\\site-packages (from cycler>=0.10.0->yellowbrick) (1.12.0)\n",
      "Requirement already satisfied: kiwisolver>=1.0.1 in c:\\users\\ichal\\anaconda3\\lib\\site-packages (from matplotlib!=3.0.0,>=1.5.1->yellowbrick) (1.0.1)\n",
      "Requirement already satisfied: pyparsing!=2.0.4,!=2.1.2,!=2.1.6,>=2.0.1 in c:\\users\\ichal\\anaconda3\\lib\\site-packages (from matplotlib!=3.0.0,>=1.5.1->yellowbrick) (2.3.1)\n",
      "Requirement already satisfied: python-dateutil>=2.1 in c:\\users\\ichal\\anaconda3\\lib\\site-packages (from matplotlib!=3.0.0,>=1.5.1->yellowbrick) (2.8.0)\n",
      "Requirement already satisfied: setuptools in c:\\users\\ichal\\anaconda3\\lib\\site-packages (from kiwisolver>=1.0.1->matplotlib!=3.0.0,>=1.5.1->yellowbrick) (40.8.0)\n",
      "Installing collected packages: yellowbrick\n",
      "Successfully installed yellowbrick-0.9.1\n",
      "Note: you may need to restart the kernel to use updated packages.\n"
     ]
    }
   ],
   "source": [
    "pip install yellowbrick"
   ]
  },
  {
   "cell_type": "code",
   "execution_count": 33,
   "metadata": {},
   "outputs": [
    {
     "data": {
      "image/png": "[encoded data removed]",
      "text/plain": [
       "<Figure size 576x396 with 1 Axes>"
      ]
     },
     "metadata": {},
     "output_type": "display_data"
    }
   ],
   "source": [
    "# Import the KElbowVisualizer method \n",
    "from yellowbrick.cluster import KElbowVisualizer\n",
    "\n",
    "# Instantiate a scikit-learn K-Means model\n",
    "model = KMeans(random_state=0)\n",
    "\n",
    "# Instantiate the KElbowVisualizer with the number of clusters and the metric \n",
    "visualizer = KElbowVisualizer(model, k=(2,6), metric='silhouette', timings=False)\n",
    "\n",
    "# Fit the data and visualize\n",
    "visualizer.fit(X)    \n",
    "visualizer.poof()"
   ]
  }
 ],
 "metadata": {
  "kernelspec": {
   "display_name": "Python 3",
   "language": "python",
   "name": "python3"
  },
  "language_info": {
   "codemirror_mode": {
    "name": "ipython",
    "version": 3
   },
   "file_extension": ".py",
   "mimetype": "text/x-python",
   "name": "python",
   "nbconvert_exporter": "python",
   "pygments_lexer": "ipython3",
   "version": "3.7.3"
  }
 },
 "nbformat": 4,
 "nbformat_minor": 2
}
