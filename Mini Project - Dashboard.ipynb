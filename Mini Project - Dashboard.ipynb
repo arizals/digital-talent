{
 "cells": [
  {
   "cell_type": "code",
   "execution_count": null,
   "metadata": {},
   "outputs": [],
   "source": []
  },
  {
   "cell_type": "code",
   "execution_count": 27,
   "metadata": {},
   "outputs": [],
   "source": [
    "import vincent"
   ]
  },
  {
   "cell_type": "code",
   "execution_count": 28,
   "metadata": {},
   "outputs": [
    {
     "name": "stderr",
     "output_type": "stream",
     "text": [
      "C:\\Users\\ICHAL\\Anaconda3\\lib\\site-packages\\ipykernel_launcher.py:78: FutureWarning: how in .resample() is deprecated\n",
      "the new syntax is .resample(...).sum()\n",
      "C:\\Users\\ICHAL\\Anaconda3\\lib\\site-packages\\ipykernel_launcher.py:79: FutureWarning: how in .resample() is deprecated\n",
      "the new syntax is .resample(...).sum()\n",
      "C:\\Users\\ICHAL\\Anaconda3\\lib\\site-packages\\ipykernel_launcher.py:80: FutureWarning: how in .resample() is deprecated\n",
      "the new syntax is .resample(...).sum()\n",
      "C:\\Users\\ICHAL\\Anaconda3\\lib\\site-packages\\ipykernel_launcher.py:81: FutureWarning: how in .resample() is deprecated\n",
      "the new syntax is .resample(...).sum()\n",
      "C:\\Users\\ICHAL\\Anaconda3\\lib\\site-packages\\ipykernel_launcher.py:82: FutureWarning: how in .resample() is deprecated\n",
      "the new syntax is .resample(...).sum()\n",
      "C:\\Users\\ICHAL\\Anaconda3\\lib\\site-packages\\ipykernel_launcher.py:83: FutureWarning: how in .resample() is deprecated\n",
      "the new syntax is .resample(...).sum()\n",
      "C:\\Users\\ICHAL\\Anaconda3\\lib\\site-packages\\ipykernel_launcher.py:84: FutureWarning: how in .resample() is deprecated\n",
      "the new syntax is .resample(...).sum()\n",
      "C:\\Users\\ICHAL\\Anaconda3\\lib\\site-packages\\ipykernel_launcher.py:85: FutureWarning: how in .resample() is deprecated\n",
      "the new syntax is .resample(...).sum()\n",
      "C:\\Users\\ICHAL\\Anaconda3\\lib\\site-packages\\ipykernel_launcher.py:86: FutureWarning: how in .resample() is deprecated\n",
      "the new syntax is .resample(...).sum()\n",
      "C:\\Users\\ICHAL\\Anaconda3\\lib\\site-packages\\ipykernel_launcher.py:87: FutureWarning: how in .resample() is deprecated\n",
      "the new syntax is .resample(...).sum()\n"
     ]
    }
   ],
   "source": [
    "#Timechart dari pengunaan hashtag unik terbanyak berdasarkan hasil analisis\n",
    "import pandas\n",
    "import json\n",
    " \n",
    "dates_giveaway = []\n",
    "dates_free = []\n",
    "dates_win = []\n",
    "dates_deals = []\n",
    "dates_sale = []\n",
    "dates_amazon = []\n",
    "dates_offer = []\n",
    "dates_promo = []\n",
    "dates_contest = []\n",
    "dates_competition = []\n",
    "# f is the file pointer to the JSON data set\n",
    "fname = 'F:/promotweets.json'\n",
    "with open(fname, 'r') as f:\n",
    "    for line in f:\n",
    "        tweet = json.loads(line)\n",
    "        # let's focus on hashtags only at the moment\n",
    "        terms_hash = [term for term in preprocess(tweet['text']) if term.startswith('#')]\n",
    "        # track when the hashtag is mentioned\n",
    "        if '#giveaway' in terms_hash:\n",
    "            dates_giveaway.append(tweet['created_at'])\n",
    "        if '#free' in terms_hash:\n",
    "            dates_free.append(tweet['created_at'])\n",
    "        if '#win' in terms_hash:\n",
    "            dates_win.append(tweet['created_at'])\n",
    "        if '#deals' in terms_hash:\n",
    "            dates_deals.append(tweet['created_at'])\n",
    "        if '#sale' in terms_hash:\n",
    "            dates_sale.append(tweet['created_at'])\n",
    "        if '#amazon' in terms_hash:\n",
    "            dates_amazon.append(tweet['created_at'])\n",
    "        if '#offer' in terms_hash:\n",
    "            dates_offer.append(tweet['created_at'])\n",
    "        if '#promo' in terms_hash:\n",
    "            dates_promo.append(tweet['created_at'])\n",
    "        if '#contest' in terms_hash:\n",
    "            dates_contest.append(tweet['created_at'])\n",
    "        if '#competition' in terms_hash:\n",
    "            dates_competition.append(tweet['created_at'])\n",
    " \n",
    "# a list of \"1\" to count the hashtags\n",
    "ones1 = [1]*len(dates_giveaway)\n",
    "ones2 = [1]*len(dates_free)\n",
    "ones3 = [1]*len(dates_win)\n",
    "ones4 = [1]*len(dates_deals)\n",
    "ones5 = [1]*len(dates_sale)\n",
    "ones6 = [1]*len(dates_amazon)\n",
    "ones7 = [1]*len(dates_offer)\n",
    "ones8 = [1]*len(dates_promo)\n",
    "ones9 = [1]*len(dates_contest)\n",
    "ones10 = [1]*len(dates_competition)\n",
    "# the index of the series\n",
    "idx1 = pandas.DatetimeIndex(dates_giveaway)\n",
    "idx2 = pandas.DatetimeIndex(dates_free)\n",
    "idx3 = pandas.DatetimeIndex(dates_win)\n",
    "idx4 = pandas.DatetimeIndex(dates_deals)\n",
    "idx5 = pandas.DatetimeIndex(dates_sale)\n",
    "idx6 = pandas.DatetimeIndex(dates_amazon)\n",
    "idx7 = pandas.DatetimeIndex(dates_offer)\n",
    "idx8 = pandas.DatetimeIndex(dates_promo)\n",
    "idx9 = pandas.DatetimeIndex(dates_contest)\n",
    "idx10 = pandas.DatetimeIndex(dates_competition)\n",
    "# the actual series (at series of 1s for the moment)\n",
    "giveaway = pandas.Series(ones1, index=idx1)\n",
    "free = pandas.Series(ones2, index=idx2)\n",
    "win = pandas.Series(ones3, index=idx3)\n",
    "deals = pandas.Series(ones4, index=idx4)\n",
    "sale = pandas.Series(ones5, index=idx5)\n",
    "amazon = pandas.Series(ones6, index=idx6)\n",
    "offer = pandas.Series(ones7, index=idx7)\n",
    "promo = pandas.Series(ones8, index=idx8)\n",
    "contest = pandas.Series(ones9, index=idx9)\n",
    "competition = pandas.Series(ones10, index=idx10)\n",
    "# Resampling / bucketing\n",
    "per_minute_giveaway = giveaway.resample('1Min', how='sum').fillna(0)\n",
    "per_minute_free = free.resample('1Min', how='sum').fillna(0)\n",
    "per_minute_win = win.resample('1Min', how='sum').fillna(0)\n",
    "per_minute_deals = deals.resample('1Min', how='sum').fillna(0)\n",
    "per_minute_sale = sale.resample('1Min', how='sum').fillna(0)\n",
    "per_minute_amazon = amazon.resample('1Min', how='sum').fillna(0)\n",
    "per_minute_offer = offer.resample('1Min', how='sum').fillna(0)\n",
    "per_minute_promo = promo.resample('1Min', how='sum').fillna(0)\n",
    "per_minute_contest = contest.resample('1Min', how='sum').fillna(0)\n",
    "per_minute_competition = competition.resample('1Min', how='sum').fillna(0)"
   ]
  },
  {
   "cell_type": "code",
   "execution_count": 29,
   "metadata": {},
   "outputs": [
    {
     "name": "stderr",
     "output_type": "stream",
     "text": [
      "C:\\Users\\ICHAL\\Anaconda3\\lib\\site-packages\\ipykernel_launcher.py:6: FutureWarning: how in .resample() is deprecated\n",
      "the new syntax is .resample(...).sum()\n",
      "  \n"
     ]
    }
   ],
   "source": [
    "# all the data together\n",
    "match_data = dict(giveaway = per_minute_giveaway, free = per_minute_free, win = per_minute_win, deals = per_minute_deals, sale = per_minute_sale, amazon = per_minute_amazon, offer = per_minute_offer, promo = per_minute_promo, contest = per_minute_contest, competition = per_minute_competition)\n",
    "# we need a DataFrame, to accommodate multiple series\n",
    "all_matches = pandas.DataFrame(data=match_data, index=per_minute_giveaway.index)\n",
    "# Resampling as above\n",
    "all_matches = all_matches.resample('1Min', how='sum').fillna(0)\n",
    " \n",
    "# and now the plotting\n",
    "time_chart = vincent.Line(all_matches[['giveaway', 'free', 'win', 'deals', 'sale', 'amazon', 'offer', 'promo', 'contest', 'competition']])\n",
    "time_chart.axis_titles(x='Time', y='Freq')\n",
    "time_chart.legend(title='Hashtags')\n",
    "time_chart.to_json('hashtag_time_chart.json')"
   ]
  }
 ],
 "metadata": {
  "kernelspec": {
   "display_name": "Python 3",
   "language": "python",
   "name": "python3"
  },
  "language_info": {
   "codemirror_mode": {
    "name": "ipython",
    "version": 3
   },
   "file_extension": ".py",
   "mimetype": "text/x-python",
   "name": "python",
   "nbconvert_exporter": "python",
   "pygments_lexer": "ipython3",
   "version": "3.7.3"
  }
 },
 "nbformat": 4,
 "nbformat_minor": 2
}
